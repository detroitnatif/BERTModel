{
 "cells": [
  {
   "cell_type": "code",
   "execution_count": 8,
   "id": "1996a09f",
   "metadata": {},
   "outputs": [],
   "source": [
    "import torch\n",
    "from transformers import AutoModel\n",
    "from torch.utils.data import DataLoader\n",
    "from torchvision import transforms\n",
    "from transformers import AutoModelForSequenceClassification, AutoImageProcessor, ViTForImageClassification\n",
    "from datasets import load_dataset\n",
    "\n",
    "import random\n",
    "import random\n",
    "from PIL import ImageDraw, ImageFont, Image\n",
    "import pathlib\n",
    "import sklearn\n",
    "import datasets\n",
    "import pandas as pd\n",
    "import sklearn.preprocessing\n",
    "import sklearn.model_selection\n",
    "import glob\n",
    "import functools\n"
   ]
  },
  {
   "cell_type": "code",
   "execution_count": 9,
   "id": "d850e357",
   "metadata": {},
   "outputs": [],
   "source": [
    "# !wget https://amazon-berkeley-objects.s3.amazonaws.com/archives/abo-listings.tar"
   ]
  },
  {
   "cell_type": "code",
   "execution_count": 10,
   "id": "be295c6f",
   "metadata": {},
   "outputs": [],
   "source": [
    "dataset_path_raw = \"/Users/tylerklimas/Desktop/BERTModel/abo-listings/listings/metadata\""
   ]
  },
  {
   "cell_type": "code",
   "execution_count": 68,
   "id": "28a70716",
   "metadata": {},
   "outputs": [
    {
     "data": {
      "text/plain": [
       "['/Users/tylerklimas/Desktop/BERTModel/abo-listings/listings/metadata/listings_b.json.gz',\n",
       " '/Users/tylerklimas/Desktop/BERTModel/abo-listings/listings/metadata/listings_2.json.gz',\n",
       " '/Users/tylerklimas/Desktop/BERTModel/abo-listings/listings/metadata/listings_c.json.gz',\n",
       " '/Users/tylerklimas/Desktop/BERTModel/abo-listings/listings/metadata/listings_3.json.gz',\n",
       " '/Users/tylerklimas/Desktop/BERTModel/abo-listings/listings/metadata/listings_a.json.gz',\n",
       " '/Users/tylerklimas/Desktop/BERTModel/abo-listings/listings/metadata/listings_1.json.gz',\n",
       " '/Users/tylerklimas/Desktop/BERTModel/abo-listings/listings/metadata/listings_8.json.gz',\n",
       " '/Users/tylerklimas/Desktop/BERTModel/abo-listings/listings/metadata/listings_9.json.gz',\n",
       " '/Users/tylerklimas/Desktop/BERTModel/abo-listings/listings/metadata/listings_0.json.gz',\n",
       " '/Users/tylerklimas/Desktop/BERTModel/abo-listings/listings/metadata/listings_5.json.gz',\n",
       " '/Users/tylerklimas/Desktop/BERTModel/abo-listings/listings/metadata/listings_e.json.gz',\n",
       " '/Users/tylerklimas/Desktop/BERTModel/abo-listings/listings/metadata/listings_4.json.gz',\n",
       " '/Users/tylerklimas/Desktop/BERTModel/abo-listings/listings/metadata/listings_d.json.gz',\n",
       " '/Users/tylerklimas/Desktop/BERTModel/abo-listings/listings/metadata/listings_6.json.gz',\n",
       " '/Users/tylerklimas/Desktop/BERTModel/abo-listings/listings/metadata/listings_f.json.gz',\n",
       " '/Users/tylerklimas/Desktop/BERTModel/abo-listings/listings/metadata/listings_7.json.gz']"
      ]
     },
     "execution_count": 68,
     "metadata": {},
     "output_type": "execute_result"
    }
   ],
   "source": [
    "glob.glob(dataset_path_raw + '*/*.json.gz')"
   ]
  },
  {
   "cell_type": "code",
   "execution_count": 71,
   "id": "3f942da7",
   "metadata": {},
   "outputs": [],
   "source": [
    "data_list = map(functools.partial(pd.read_json, lines=True), glob.glob(dataset_path_raw + '*/*.json.gz'))"
   ]
  },
  {
   "cell_type": "code",
   "execution_count": 72,
   "id": "2cbdb086",
   "metadata": {},
   "outputs": [],
   "source": [
    "df_raw = pd.concat(data_list)"
   ]
  },
  {
   "cell_type": "code",
   "execution_count": 73,
   "id": "de24bac4",
   "metadata": {},
   "outputs": [
    {
     "data": {
      "text/plain": [
       "brand                       [{'language_tag': 'en_CA', 'value': 'CGTL'}]\n",
       "color                  [{'language_tag': 'en_CA', 'value': 'Multicolo...\n",
       "item_id                                                       B08DV9LXW3\n",
       "item_name              [{'language_tag': 'en_CA', 'value': 'CGTL Ear ...\n",
       "product_type                                    [{'value': 'ACCESSORY'}]\n",
       "main_image_id                                                51GM3Rpdm8L\n",
       "country                                                               CA\n",
       "marketplace                                                       Amazon\n",
       "domain_name                                                    amazon.ca\n",
       "node                   [{'node_id': 10287485011, 'node_name': '/Categ...\n",
       "item_dimensions                                                      NaN\n",
       "bullet_point                                                         NaN\n",
       "item_weight                                                          NaN\n",
       "other_image_id                                                       NaN\n",
       "item_keywords                                                        NaN\n",
       "material                                                             NaN\n",
       "model_name                                                           NaN\n",
       "model_number                                                         NaN\n",
       "style                                                                NaN\n",
       "item_shape                                                           NaN\n",
       "model_year                                                           NaN\n",
       "fabric_type                                                          NaN\n",
       "product_description                                                  NaN\n",
       "spin_id                                                              NaN\n",
       "3dmodel_id                                                           NaN\n",
       "color_code                                                           NaN\n",
       "pattern                                                              NaN\n",
       "finish_type                                                          NaN\n",
       "Name: 0, dtype: object"
      ]
     },
     "execution_count": 73,
     "metadata": {},
     "output_type": "execute_result"
    }
   ],
   "source": [
    "df_raw.iloc[0]"
   ]
  },
  {
   "cell_type": "code",
   "execution_count": 53,
   "id": "ed7a7312",
   "metadata": {},
   "outputs": [],
   "source": [
    "def parse_property(dataset_dict, name):  # takes each element of the data and places the value into dictionary spot\n",
    "    try:\n",
    "        r = dataset_dict[name][0]\n",
    "        if name == 'node':\n",
    "            return r['node_name']\n",
    "        else:\n",
    "            return r['value']\n",
    "    \n",
    "    except Exception as e:\n",
    "        return None\n",
    "    \n",
    "def cleanup_record(raw_record:dict):\n",
    "    record = {\n",
    "        'brand': parse_property(raw_record,'brand')\n",
    "        ,'item_id': raw_record['item_id']\n",
    "        ,'item_name': parse_property(raw_record,'item_name')\n",
    "        ,'product_type': parse_property(raw_record,'product_type')\n",
    "        ,'node': parse_property(raw_record, 'node')\n",
    "        , 'main_image_id': raw_record['main_image_id']\n",
    "        ,'product_description': raw_record['product_description']\n",
    "\n",
    "        \n",
    "    }\n",
    "\n",
    "    return pd.Series(record)"
   ]
  },
  {
   "cell_type": "code",
   "execution_count": 74,
   "id": "ae4185a9",
   "metadata": {},
   "outputs": [
    {
     "data": {
      "text/plain": [
       "brand                                                               CGTL\n",
       "item_id                                                       B08DV9LXW3\n",
       "item_name              CGTL Ear Loops Face Bandana Neck Gaiter Stylis...\n",
       "product_type                                                   ACCESSORY\n",
       "node                          /Categories/Women/Accessories/Neck Gaiters\n",
       "main_image_id                                                51GM3Rpdm8L\n",
       "product_description                                                  NaN\n",
       "dtype: object"
      ]
     },
     "execution_count": 74,
     "metadata": {},
     "output_type": "execute_result"
    }
   ],
   "source": [
    "cleanup_record(df_raw.iloc[0])"
   ]
  },
  {
   "cell_type": "code",
   "execution_count": 48,
   "id": "2124db17",
   "metadata": {},
   "outputs": [
    {
     "data": {
      "text/plain": [
       "'CGTL'"
      ]
     },
     "execution_count": 48,
     "metadata": {},
     "output_type": "execute_result"
    }
   ],
   "source": [
    "r = df_raw.iloc[0].to_dict()\n",
    "parse_property(r, 'brand')  \n",
    "r['brand'][0]['value']"
   ]
  },
  {
   "cell_type": "code",
   "execution_count": 55,
   "id": "e9e66b7c",
   "metadata": {},
   "outputs": [
    {
     "data": {
      "text/plain": [
       "Index(['brand', 'item_id', 'item_name', 'product_type', 'node',\n",
       "       'main_image_id', 'product_description'],\n",
       "      dtype='object')"
      ]
     },
     "execution_count": 55,
     "metadata": {},
     "output_type": "execute_result"
    }
   ],
   "source": [
    "df = df_raw.apply(cleanup_record,axis=1)"
   ]
  },
  {
   "cell_type": "code",
   "execution_count": 57,
   "id": "c2df3761",
   "metadata": {},
   "outputs": [
    {
     "data": {
      "text/plain": [
       "CELLULAR_PHONE_CASE    64853\n",
       "SHOES                  12965\n",
       "GROCERY                 6546\n",
       "HOME                    5264\n",
       "HOME_BED_AND_BATH       3082\n",
       "                       ...  \n",
       "TREADMILL                  1\n",
       "GOLF_CLUB                  1\n",
       "SCULPTURE                  1\n",
       "AIR_PURIFIER               1\n",
       "STROLLER                   1\n",
       "Name: product_type, Length: 576, dtype: int64"
      ]
     },
     "execution_count": 57,
     "metadata": {},
     "output_type": "execute_result"
    }
   ],
   "source": [
    "df['product_type'].value_counts()\n",
    "# we want to limit the amount of classes we have to predict"
   ]
  },
  {
   "cell_type": "code",
   "execution_count": 99,
   "id": "aa613058",
   "metadata": {},
   "outputs": [
    {
     "data": {
      "text/plain": [
       "['CELLULAR_PHONE_CASE',\n",
       " 'SHOES',\n",
       " 'GROCERY',\n",
       " 'HOME',\n",
       " 'HOME_BED_AND_BATH',\n",
       " 'HOME_FURNITURE_AND_DECOR',\n",
       " 'CHAIR',\n",
       " 'BOOT',\n",
       " 'SANDAL',\n",
       " 'FINERING',\n",
       " 'HEALTH_PERSONAL_CARE',\n",
       " 'FINENECKLACEBRACELETANKLET',\n",
       " 'ACCESSORY',\n",
       " 'SOFA',\n",
       " 'OFFICE_PRODUCTS',\n",
       " 'FINEEARRING',\n",
       " 'PET_SUPPLIES',\n",
       " 'SPORTING_GOODS',\n",
       " 'TABLE',\n",
       " 'HARDWARE_HANDLE',\n",
       " 'RUG',\n",
       " 'HANDBAG',\n",
       " 'LIGHT_BULB',\n",
       " 'KITCHEN',\n",
       " 'HAT',\n",
       " 'EARRING',\n",
       " 'OUTDOOR_LIVING',\n",
       " 'WALL_ART',\n",
       " 'JANITORIAL_SUPPLY',\n",
       " 'LAMP',\n",
       " 'LIGHT_FIXTURE']"
      ]
     },
     "execution_count": 99,
     "metadata": {},
     "output_type": "execute_result"
    }
   ],
   "source": [
    "min_product_count = 500\n",
    "\n",
    "top_products =  df['product_type'].value_counts().loc[lambda x: x>min_product_count].index.tolist()\n",
    "top_products"
   ]
  },
  {
   "cell_type": "code",
   "execution_count": 100,
   "id": "4ef61aed",
   "metadata": {},
   "outputs": [],
   "source": [
    "df_all = df [ df['product_type'].isin(top_products) ].copy()"
   ]
  },
  {
   "cell_type": "code",
   "execution_count": 101,
   "id": "6d67b0e4",
   "metadata": {},
   "outputs": [],
   "source": [
    "df_all['label_name'] = df_all['product_type']\n",
    "df_all['text'] = df_all['item_name']"
   ]
  },
  {
   "cell_type": "code",
   "execution_count": 102,
   "id": "24bccc93",
   "metadata": {},
   "outputs": [],
   "source": [
    "label_encoder = sklearn.preprocessing.LabelEncoder()"
   ]
  },
  {
   "cell_type": "code",
   "execution_count": 103,
   "id": "8c1fa9c3",
   "metadata": {},
   "outputs": [
    {
     "data": {
      "text/html": [
       "<style>#sk-container-id-3 {color: black;background-color: white;}#sk-container-id-3 pre{padding: 0;}#sk-container-id-3 div.sk-toggleable {background-color: white;}#sk-container-id-3 label.sk-toggleable__label {cursor: pointer;display: block;width: 100%;margin-bottom: 0;padding: 0.3em;box-sizing: border-box;text-align: center;}#sk-container-id-3 label.sk-toggleable__label-arrow:before {content: \"▸\";float: left;margin-right: 0.25em;color: #696969;}#sk-container-id-3 label.sk-toggleable__label-arrow:hover:before {color: black;}#sk-container-id-3 div.sk-estimator:hover label.sk-toggleable__label-arrow:before {color: black;}#sk-container-id-3 div.sk-toggleable__content {max-height: 0;max-width: 0;overflow: hidden;text-align: left;background-color: #f0f8ff;}#sk-container-id-3 div.sk-toggleable__content pre {margin: 0.2em;color: black;border-radius: 0.25em;background-color: #f0f8ff;}#sk-container-id-3 input.sk-toggleable__control:checked~div.sk-toggleable__content {max-height: 200px;max-width: 100%;overflow: auto;}#sk-container-id-3 input.sk-toggleable__control:checked~label.sk-toggleable__label-arrow:before {content: \"▾\";}#sk-container-id-3 div.sk-estimator input.sk-toggleable__control:checked~label.sk-toggleable__label {background-color: #d4ebff;}#sk-container-id-3 div.sk-label input.sk-toggleable__control:checked~label.sk-toggleable__label {background-color: #d4ebff;}#sk-container-id-3 input.sk-hidden--visually {border: 0;clip: rect(1px 1px 1px 1px);clip: rect(1px, 1px, 1px, 1px);height: 1px;margin: -1px;overflow: hidden;padding: 0;position: absolute;width: 1px;}#sk-container-id-3 div.sk-estimator {font-family: monospace;background-color: #f0f8ff;border: 1px dotted black;border-radius: 0.25em;box-sizing: border-box;margin-bottom: 0.5em;}#sk-container-id-3 div.sk-estimator:hover {background-color: #d4ebff;}#sk-container-id-3 div.sk-parallel-item::after {content: \"\";width: 100%;border-bottom: 1px solid gray;flex-grow: 1;}#sk-container-id-3 div.sk-label:hover label.sk-toggleable__label {background-color: #d4ebff;}#sk-container-id-3 div.sk-serial::before {content: \"\";position: absolute;border-left: 1px solid gray;box-sizing: border-box;top: 0;bottom: 0;left: 50%;z-index: 0;}#sk-container-id-3 div.sk-serial {display: flex;flex-direction: column;align-items: center;background-color: white;padding-right: 0.2em;padding-left: 0.2em;position: relative;}#sk-container-id-3 div.sk-item {position: relative;z-index: 1;}#sk-container-id-3 div.sk-parallel {display: flex;align-items: stretch;justify-content: center;background-color: white;position: relative;}#sk-container-id-3 div.sk-item::before, #sk-container-id-3 div.sk-parallel-item::before {content: \"\";position: absolute;border-left: 1px solid gray;box-sizing: border-box;top: 0;bottom: 0;left: 50%;z-index: -1;}#sk-container-id-3 div.sk-parallel-item {display: flex;flex-direction: column;z-index: 1;position: relative;background-color: white;}#sk-container-id-3 div.sk-parallel-item:first-child::after {align-self: flex-end;width: 50%;}#sk-container-id-3 div.sk-parallel-item:last-child::after {align-self: flex-start;width: 50%;}#sk-container-id-3 div.sk-parallel-item:only-child::after {width: 0;}#sk-container-id-3 div.sk-dashed-wrapped {border: 1px dashed gray;margin: 0 0.4em 0.5em 0.4em;box-sizing: border-box;padding-bottom: 0.4em;background-color: white;}#sk-container-id-3 div.sk-label label {font-family: monospace;font-weight: bold;display: inline-block;line-height: 1.2em;}#sk-container-id-3 div.sk-label-container {text-align: center;}#sk-container-id-3 div.sk-container {/* jupyter's `normalize.less` sets `[hidden] { display: none; }` but bootstrap.min.css set `[hidden] { display: none !important; }` so we also need the `!important` here to be able to override the default hidden behavior on the sphinx rendered scikit-learn.org. See: https://github.com/scikit-learn/scikit-learn/issues/21755 */display: inline-block !important;position: relative;}#sk-container-id-3 div.sk-text-repr-fallback {display: none;}</style><div id=\"sk-container-id-3\" class=\"sk-top-container\"><div class=\"sk-text-repr-fallback\"><pre>LabelEncoder()</pre><b>In a Jupyter environment, please rerun this cell to show the HTML representation or trust the notebook. <br />On GitHub, the HTML representation is unable to render, please try loading this page with nbviewer.org.</b></div><div class=\"sk-container\" hidden><div class=\"sk-item\"><div class=\"sk-estimator sk-toggleable\"><input class=\"sk-toggleable__control sk-hidden--visually\" id=\"sk-estimator-id-3\" type=\"checkbox\" checked><label for=\"sk-estimator-id-3\" class=\"sk-toggleable__label sk-toggleable__label-arrow\">LabelEncoder</label><div class=\"sk-toggleable__content\"><pre>LabelEncoder()</pre></div></div></div></div></div>"
      ],
      "text/plain": [
       "LabelEncoder()"
      ]
     },
     "execution_count": 103,
     "metadata": {},
     "output_type": "execute_result"
    }
   ],
   "source": [
    "label_encoder.fit(df_all['label_name'])"
   ]
  },
  {
   "cell_type": "code",
   "execution_count": 104,
   "id": "8349e308",
   "metadata": {},
   "outputs": [],
   "source": [
    "df_all['label'] = label_encoder.transform(df_all['label_name'])"
   ]
  },
  {
   "cell_type": "code",
   "execution_count": 114,
   "id": "6419cdfc",
   "metadata": {},
   "outputs": [
    {
     "name": "stdout",
     "output_type": "stream",
     "text": [
      "{'train': 72743, 'test': 24248, 'val': 24248}\n"
     ]
    }
   ],
   "source": [
    "df_train, df_test = sklearn.model_selection.train_test_split(df_all, train_size=.6, stratify= df_all['label'] )\n",
    "\n",
    "\n",
    "df_test, df_val = sklearn.model_selection.train_test_split(df_test, test_size=.5, stratify= df_test['label'] )\n",
    "\n",
    "\n",
    "print  ( \n",
    "{\n",
    "    'train': len(df_train)\n",
    "    ,'test': len(df_test)\n",
    "    ,'val': len(df_val)\n",
    "}\n",
    "\n",
    ")"
   ]
  },
  {
   "cell_type": "code",
   "execution_count": 116,
   "id": "dde8fb00",
   "metadata": {},
   "outputs": [],
   "source": [
    "dataset_features = datasets.Features({\n",
    "    'text': datasets.Value('string'),\n",
    "    'item_name': datasets.Value('string'),\n",
    "    'label': datasets.ClassLabel(names=list(label_encoder.classes_)),\n",
    "    'brand': datasets.Value('string'),\n",
    "    'item_id': datasets.Value('string'),\n",
    "    'main_image_id': datasets.Value('string'),\n",
    "    'node': datasets.Value('string')\n",
    "})"
   ]
  },
  {
   "cell_type": "code",
   "execution_count": 127,
   "id": "11e3c582",
   "metadata": {},
   "outputs": [
    {
     "data": {
      "text/plain": [
       "DatasetDict({\n",
       "    train: Dataset({\n",
       "        features: ['text', 'item_name', 'label', 'brand', 'item_id', 'main_image_id', 'node'],\n",
       "        num_rows: 72743\n",
       "    })\n",
       "    test: Dataset({\n",
       "        features: ['text', 'item_name', 'label', 'brand', 'item_id', 'main_image_id', 'node'],\n",
       "        num_rows: 24248\n",
       "    })\n",
       "    valid: Dataset({\n",
       "        features: ['text', 'item_name', 'label', 'brand', 'item_id', 'main_image_id', 'node'],\n",
       "        num_rows: 24248\n",
       "    })\n",
       "})"
      ]
     },
     "execution_count": 127,
     "metadata": {},
     "output_type": "execute_result"
    }
   ],
   "source": [
    "interested_columns = dataset_features.keys()\n",
    "\n",
    "dataset_train = datasets.Dataset.from_pandas(df_train[interested_columns],features=dataset_features, preserve_index=False)\n",
    "dataset_test = datasets.Dataset.from_pandas(df_test[interested_columns],features=dataset_features, preserve_index=False)\n",
    "dataset_validation = datasets.Dataset.from_pandas(df_test[interested_columns],features=dataset_features, preserve_index=False)\n",
    "\n",
    "dataset_all = datasets.DatasetDict({\n",
    "    'train': dataset_train,\n",
    "    'test': dataset_test,\n",
    "    'valid': dataset_validation }\n",
    ")\n",
    "dataset_all"
   ]
  },
  {
   "cell_type": "code",
   "execution_count": 132,
   "id": "e0e22863",
   "metadata": {},
   "outputs": [],
   "source": [
    "all_classes = dataset_all['train'].features['label'].names_file"
   ]
  },
  {
   "cell_type": "code",
   "execution_count": null,
   "id": "a2c49549",
   "metadata": {},
   "outputs": [],
   "source": [
    "dataset_path = '../artifacts/dataset_processed/'"
   ]
  }
 ],
 "metadata": {
  "celltoolbar": "Raw Cell Format",
  "kernelspec": {
   "display_name": "Python 3 (ipykernel)",
   "language": "python",
   "name": "python3"
  },
  "language_info": {
   "codemirror_mode": {
    "name": "ipython",
    "version": 3
   },
   "file_extension": ".py",
   "mimetype": "text/x-python",
   "name": "python",
   "nbconvert_exporter": "python",
   "pygments_lexer": "ipython3",
   "version": "3.9.13"
  }
 },
 "nbformat": 4,
 "nbformat_minor": 5
}
