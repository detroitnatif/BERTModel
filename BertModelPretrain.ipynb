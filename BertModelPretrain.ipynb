{
 "cells": [
  {
   "cell_type": "code",
   "execution_count": 8,
   "id": "eeb41a54",
   "metadata": {},
   "outputs": [],
   "source": [
    "import torch\n",
    "from transformers import AutoModel\n",
    "from torch.utils.data import DataLoader\n",
    "from torchvision import transforms\n",
    "from transformers import AutoModelForSequenceClassification, AutoImageProcessor, ViTForImageClassification\n",
    "from datasets import load_dataset\n",
    "\n",
    "import random\n",
    "import random\n",
    "from PIL import ImageDraw, ImageFont, Image\n",
    "import pathlib\n",
    "import sklearn\n",
    "import datasets\n",
    "import pandas as pd\n",
    "import sklearn.preprocessing\n",
    "import sklearn.model_selection\n",
    "import glob\n",
    "import functools\n"
   ]
  },
  {
   "cell_type": "code",
   "execution_count": 9,
   "id": "ade27d1c",
   "metadata": {},
   "outputs": [],
   "source": [
    "# !wget https://amazon-berkeley-objects.s3.amazonaws.com/archives/abo-listings.tar"
   ]
  },
  {
   "cell_type": "code",
   "execution_count": 10,
   "id": "7e844879",
   "metadata": {},
   "outputs": [],
   "source": [
    "dataset_path_raw = \"/Users/tylerklimas/Desktop/BERTModel/abo-listings/listings/metadata\""
   ]
  },
  {
   "cell_type": "code",
   "execution_count": 17,
   "id": "b472fd01",
   "metadata": {},
   "outputs": [
    {
     "data": {
      "text/plain": [
       "['/Users/tylerklimas/Desktop/BERTModel/abo-listings/listings/metadata/listings_b.json.gz',\n",
       " '/Users/tylerklimas/Desktop/BERTModel/abo-listings/listings/metadata/listings_2.json.gz',\n",
       " '/Users/tylerklimas/Desktop/BERTModel/abo-listings/listings/metadata/listings_c.json.gz',\n",
       " '/Users/tylerklimas/Desktop/BERTModel/abo-listings/listings/metadata/listings_3.json.gz',\n",
       " '/Users/tylerklimas/Desktop/BERTModel/abo-listings/listings/metadata/listings_a.json.gz',\n",
       " '/Users/tylerklimas/Desktop/BERTModel/abo-listings/listings/metadata/listings_1.json.gz',\n",
       " '/Users/tylerklimas/Desktop/BERTModel/abo-listings/listings/metadata/listings_8.json.gz',\n",
       " '/Users/tylerklimas/Desktop/BERTModel/abo-listings/listings/metadata/listings_9.json.gz',\n",
       " '/Users/tylerklimas/Desktop/BERTModel/abo-listings/listings/metadata/listings_0.json.gz',\n",
       " '/Users/tylerklimas/Desktop/BERTModel/abo-listings/listings/metadata/listings_5.json.gz',\n",
       " '/Users/tylerklimas/Desktop/BERTModel/abo-listings/listings/metadata/listings_e.json.gz',\n",
       " '/Users/tylerklimas/Desktop/BERTModel/abo-listings/listings/metadata/listings_4.json.gz',\n",
       " '/Users/tylerklimas/Desktop/BERTModel/abo-listings/listings/metadata/listings_d.json.gz',\n",
       " '/Users/tylerklimas/Desktop/BERTModel/abo-listings/listings/metadata/listings_6.json.gz',\n",
       " '/Users/tylerklimas/Desktop/BERTModel/abo-listings/listings/metadata/listings_f.json.gz',\n",
       " '/Users/tylerklimas/Desktop/BERTModel/abo-listings/listings/metadata/listings_7.json.gz']"
      ]
     },
     "execution_count": 17,
     "metadata": {},
     "output_type": "execute_result"
    }
   ],
   "source": [
    "glob.glob(dataset_path_raw + '*/*.json.gz')"
   ]
  },
  {
   "cell_type": "code",
   "execution_count": 18,
   "id": "2cc89869",
   "metadata": {},
   "outputs": [],
   "source": [
    "data_list = map(functools.partial(pd.read_json, lines=True), glob.glob(dataset_path_raw + '*/*.json.gz'))"
   ]
  },
  {
   "cell_type": "code",
   "execution_count": 20,
   "id": "077ed3d3",
   "metadata": {},
   "outputs": [],
   "source": [
    "df_raw = pd.concat(data_list)"
   ]
  },
  {
   "cell_type": "code",
   "execution_count": 52,
   "id": "f0dfb85e",
   "metadata": {},
   "outputs": [
    {
     "data": {
      "text/plain": [
       "brand                       [{'language_tag': 'en_CA', 'value': 'CGTL'}]\n",
       "color                  [{'language_tag': 'en_CA', 'value': 'Multicolo...\n",
       "item_id                                                       B08DV9LXW3\n",
       "item_name              [{'language_tag': 'en_CA', 'value': 'CGTL Ear ...\n",
       "product_type                                    [{'value': 'ACCESSORY'}]\n",
       "main_image_id                                                51GM3Rpdm8L\n",
       "country                                                               CA\n",
       "marketplace                                                       Amazon\n",
       "domain_name                                                    amazon.ca\n",
       "node                   [{'node_id': 10287485011, 'node_name': '/Categ...\n",
       "item_dimensions                                                      NaN\n",
       "bullet_point                                                         NaN\n",
       "item_weight                                                          NaN\n",
       "other_image_id                                                       NaN\n",
       "item_keywords                                                        NaN\n",
       "material                                                             NaN\n",
       "model_name                                                           NaN\n",
       "model_number                                                         NaN\n",
       "style                                                                NaN\n",
       "item_shape                                                           NaN\n",
       "model_year                                                           NaN\n",
       "fabric_type                                                          NaN\n",
       "product_description                                                  NaN\n",
       "spin_id                                                              NaN\n",
       "3dmodel_id                                                           NaN\n",
       "color_code                                                           NaN\n",
       "pattern                                                              NaN\n",
       "finish_type                                                          NaN\n",
       "Name: 0, dtype: object"
      ]
     },
     "execution_count": 52,
     "metadata": {},
     "output_type": "execute_result"
    }
   ],
   "source": [
    "df_raw.iloc[0]"
   ]
  },
  {
   "cell_type": "code",
   "execution_count": 53,
   "id": "f7f19c92",
   "metadata": {},
   "outputs": [],
   "source": [
    "def parse_property(dataset_dict, name):  # takes each element of the data and places the value into dictionary spot\n",
    "    try:\n",
    "        r = dataset_dict[name][0]\n",
    "        if name == 'node':\n",
    "            return r['node_name']\n",
    "        else:\n",
    "            return r['value']\n",
    "    \n",
    "    except Exception as e:\n",
    "        return None\n",
    "    \n",
    "def cleanup_record(raw_record:dict):\n",
    "    record = {\n",
    "        'brand': parse_property(raw_record,'brand')\n",
    "        ,'item_id': raw_record['item_id']\n",
    "        ,'item_name': parse_property(raw_record,'item_name')\n",
    "        ,'product_type': parse_property(raw_record,'product_type')\n",
    "        ,'node': parse_property(raw_record, 'node')\n",
    "        , 'main_image_id': raw_record['main_image_id']\n",
    "        ,'product_description': raw_record['product_description']\n",
    "\n",
    "        \n",
    "    }\n",
    "\n",
    "    return pd.Series(record)"
   ]
  },
  {
   "cell_type": "code",
   "execution_count": 48,
   "id": "f34ce1b2",
   "metadata": {},
   "outputs": [
    {
     "data": {
      "text/plain": [
       "'CGTL'"
      ]
     },
     "execution_count": 48,
     "metadata": {},
     "output_type": "execute_result"
    }
   ],
   "source": [
    "r = df_raw.iloc[0].to_dict()\n",
    "parse_property(r, 'brand')  \n",
    "r['brand'][0]['value']"
   ]
  },
  {
   "cell_type": "code",
   "execution_count": 55,
   "id": "1e74c3d2",
   "metadata": {},
   "outputs": [
    {
     "data": {
      "text/plain": [
       "Index(['brand', 'item_id', 'item_name', 'product_type', 'node',\n",
       "       'main_image_id', 'product_description'],\n",
       "      dtype='object')"
      ]
     },
     "execution_count": 55,
     "metadata": {},
     "output_type": "execute_result"
    }
   ],
   "source": [
    "df = df_raw.apply(cleanup_record,axis=1)"
   ]
  },
  {
   "cell_type": "code",
   "execution_count": 57,
   "id": "64fe2430",
   "metadata": {},
   "outputs": [
    {
     "data": {
      "text/plain": [
       "CELLULAR_PHONE_CASE    64853\n",
       "SHOES                  12965\n",
       "GROCERY                 6546\n",
       "HOME                    5264\n",
       "HOME_BED_AND_BATH       3082\n",
       "                       ...  \n",
       "TREADMILL                  1\n",
       "GOLF_CLUB                  1\n",
       "SCULPTURE                  1\n",
       "AIR_PURIFIER               1\n",
       "STROLLER                   1\n",
       "Name: product_type, Length: 576, dtype: int64"
      ]
     },
     "execution_count": 57,
     "metadata": {},
     "output_type": "execute_result"
    }
   ],
   "source": [
    "df['product_type'].value_counts()\n",
    "# we want to limit the amount of classes we have to predict"
   ]
  },
  {
   "cell_type": "code",
   "execution_count": 60,
   "id": "47461139",
   "metadata": {},
   "outputs": [
    {
     "data": {
      "text/plain": [
       "['CELLULAR_PHONE_CASE',\n",
       " 'SHOES',\n",
       " 'GROCERY',\n",
       " 'HOME',\n",
       " 'HOME_BED_AND_BATH',\n",
       " 'HOME_FURNITURE_AND_DECOR',\n",
       " 'CHAIR',\n",
       " 'BOOT',\n",
       " 'SANDAL',\n",
       " 'FINERING',\n",
       " 'HEALTH_PERSONAL_CARE',\n",
       " 'FINENECKLACEBRACELETANKLET',\n",
       " 'ACCESSORY',\n",
       " 'SOFA',\n",
       " 'OFFICE_PRODUCTS',\n",
       " 'FINEEARRING',\n",
       " 'PET_SUPPLIES',\n",
       " 'SPORTING_GOODS',\n",
       " 'TABLE',\n",
       " 'HARDWARE_HANDLE',\n",
       " 'RUG',\n",
       " 'HANDBAG',\n",
       " 'LIGHT_BULB',\n",
       " 'KITCHEN',\n",
       " 'HAT',\n",
       " 'EARRING',\n",
       " 'OUTDOOR_LIVING',\n",
       " 'WALL_ART',\n",
       " 'JANITORIAL_SUPPLY',\n",
       " 'LAMP',\n",
       " 'LIGHT_FIXTURE']"
      ]
     },
     "execution_count": 60,
     "metadata": {},
     "output_type": "execute_result"
    }
   ],
   "source": [
    "min_product_count = 500\n",
    "\n",
    "top_products =  df['product_type'].value_counts().loc[lambda x: x>min_product_count].index.tolist()\n",
    "top_products"
   ]
  },
  {
   "cell_type": "code",
   "execution_count": 61,
   "id": "95d85a93",
   "metadata": {},
   "outputs": [],
   "source": [
    "df_all = df [ df['product_type'].isin(top_products) ].copy()"
   ]
  },
  {
   "cell_type": "code",
   "execution_count": 67,
   "id": "d9a51110",
   "metadata": {},
   "outputs": [],
   "source": [
    "df_all['label'] = df_all['product_type']\n",
    "df_all['text'] = df_all['item_name']"
   ]
  },
  {
   "cell_type": "code",
   "execution_count": null,
   "id": "987f6c3e",
   "metadata": {},
   "outputs": [],
   "source": [
    "label_encoder = sklearn.preprocessing.LabelEncoder()"
   ]
  }
 ],
 "metadata": {
  "celltoolbar": "Raw Cell Format",
  "kernelspec": {
   "display_name": "Python 3 (ipykernel)",
   "language": "python",
   "name": "python3"
  },
  "language_info": {
   "codemirror_mode": {
    "name": "ipython",
    "version": 3
   },
   "file_extension": ".py",
   "mimetype": "text/x-python",
   "name": "python",
   "nbconvert_exporter": "python",
   "pygments_lexer": "ipython3",
   "version": "3.9.13"
  }
 },
 "nbformat": 4,
 "nbformat_minor": 5
}
