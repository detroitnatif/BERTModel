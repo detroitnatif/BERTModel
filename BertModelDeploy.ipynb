{
 "cells": [
  {
   "cell_type": "code",
   "execution_count": 39,
   "id": "cecc83ce",
   "metadata": {},
   "outputs": [],
   "source": [
    "import torch\n",
    "from transformers import AutoModel\n",
    "from torch.utils.data import DataLoader\n",
    "from torchvision import transforms\n",
    "from transformers import AutoModelForSequenceClassification, AutoTokenizer\n",
    "import transformers\n",
    "from datasets import load_dataset\n",
    "import handler\n",
    "\n",
    "import pathlib\n",
    "import sklearn\n",
    "import datasets\n",
    "import pandas as pd\n",
    "import glob\n",
    "import functools\n",
    "import os\n",
    "import sys\n",
    "\n",
    "TOKENIZERS_PARALLELISM=False"
   ]
  },
  {
   "cell_type": "code",
   "execution_count": 53,
   "id": "651b36ba",
   "metadata": {},
   "outputs": [
    {
     "name": "stdout",
     "output_type": "stream",
     "text": [
      "config.json             \u001b[1m\u001b[36mmodel_store\u001b[m\u001b[m             special_tokens_map.json\n",
      "config.properties       model_weights.pt        tokenizer.json\n",
      "index_to_name.json      requirements.txt        tokenizer_config.json\n",
      "model.safetensors       setup_config.json       vocab.txt\n"
     ]
    }
   ],
   "source": [
    "!ls ./trainedmodels/\n"
   ]
  },
  {
   "cell_type": "code",
   "execution_count": 61,
   "id": "f51f7e52",
   "metadata": {},
   "outputs": [],
   "source": [
    "BASE_DIR = '/Users/tylerklimas/Desktop/BERTModel/TrainedModels'\n",
    "\n",
    "MODEL_NAME = 'pt_classifier'\n",
    "MODEL_VERSION = '1.0'\n",
    "MODEL_STORE='${BASE_DIR}/model_store'\n",
    "MODEL_SERIALIZED_FILE=\"${BASE_DIR}/model_weights.pt\"\n",
    "\n",
    "TOKENIZER_FILES= \"${BASE_DIR}/tokenizer_config.json, ${BASE_DIR}/special_tokens_map.json, ${BASE_DIR}/vocab.txt,  ${BASE_DIR}/tokenizer.json\"\n",
    "MODEL_EXTRA_FILES=\"${BASE_DIR}/setup_config.json, ${TOKENIZER_FILES}\"\n"
   ]
  },
  {
   "cell_type": "code",
   "execution_count": 62,
   "id": "b5b380e1",
   "metadata": {},
   "outputs": [
    {
     "name": "stderr",
     "output_type": "stream",
     "text": [
      "WARNING - Overwriting /Users/tylerklimas/Desktop/BERTModel/TrainedModels/model_store/pt_classifier.mar ...\n"
     ]
    }
   ],
   "source": [
    "%%bash\n",
    "\n",
    "BASE_DIR='/Users/tylerklimas/Desktop/BERTModel/TrainedModels'\n",
    "\n",
    "MODEL_NAME='pt_classifier'\n",
    "MODEL_VERSION='1.0'\n",
    "MODEL_STORE=\"${BASE_DIR}/model_store\"\n",
    "MODEL_SERIALIZED_FILE=\"${BASE_DIR}/model_weights.pt\"\n",
    "REQUIREMENTS_FILE=\"${BASE_DIR}/requirements.txt\" # Path to your requirements.txt\n",
    "\n",
    "# Ensure no spaces after commas\n",
    "TOKENIZER_FILES=\"${BASE_DIR}/tokenizer_config.json,${BASE_DIR}/special_tokens_map.json,${BASE_DIR}/vocab.txt,${BASE_DIR}/tokenizer.json\"\n",
    "MODEL_EXTRA_FILES=\"${BASE_DIR}/index_to_name.json,${BASE_DIR}/setup_config.json,${TOKENIZER_FILES}\"\n",
    "\n",
    "mkdir -p $MODEL_STORE\n",
    "\n",
    "torch-model-archiver --model-name ${MODEL_NAME} \\\n",
    "--version ${MODEL_VERSION} \\\n",
    "--serialized-file ${MODEL_SERIALIZED_FILE} \\\n",
    "--export-path ${MODEL_STORE} \\\n",
    "--extra-files \"${MODEL_EXTRA_FILES}\" \\\n",
    "--handler ./handler.py \\\n",
    "--requirements-file ${REQUIREMENTS_FILE} \\\n",
    "-f\n",
    "\n"
   ]
  },
  {
   "cell_type": "code",
   "execution_count": 63,
   "id": "3e9b4812",
   "metadata": {},
   "outputs": [
    {
     "name": "stdout",
     "output_type": "stream",
     "text": [
      "/Users/tylerklimas/Desktop/BERTModel\n"
     ]
    }
   ],
   "source": [
    "!pwd"
   ]
  },
  {
   "cell_type": "code",
   "execution_count": 64,
   "id": "7d26de38",
   "metadata": {},
   "outputs": [],
   "source": [
    "%%bash --bg\n",
    "torchserve --ts-config /Users/tylerklimas/Desktop/BERTModel/TrainedModels/config.properties \\\n",
    "--start --model-store /Users/tylerklimas/Desktop/BERTModel/TrainedModels/model_store --ncs"
   ]
  },
  {
   "cell_type": "code",
   "execution_count": 68,
   "id": "869da399",
   "metadata": {},
   "outputs": [
    {
     "name": "stdout",
     "output_type": "stream",
     "text": [
      "TorchServe has stopped.\n"
     ]
    }
   ],
   "source": [
    "%%bash \n",
    "torchserve --stop"
   ]
  },
  {
   "cell_type": "code",
   "execution_count": 65,
   "id": "c4775da9",
   "metadata": {},
   "outputs": [
    {
     "name": "stdout",
     "output_type": "stream",
     "text": [
      "load_models=all\n",
      "inference_address=http://0.0.0.0:9080\n",
      "management_address=http://0.0.0.0:9081\n",
      "metrics_address=http://0.0.0.0:9082\n",
      "model_store=model_store\n",
      "async_logging=true"
     ]
    }
   ],
   "source": [
    "!cat /Users/tylerklimas/Desktop/BERTModel/TrainedModels/config.properties"
   ]
  },
  {
   "cell_type": "code",
   "execution_count": 66,
   "id": "6e477694",
   "metadata": {},
   "outputs": [
    {
     "name": "stdout",
     "output_type": "stream",
     "text": [
      "[\n",
      "  {\n",
      "    \"modelName\": \"pt_classifier\",\n",
      "    \"modelVersion\": \"1.0\",\n",
      "    \"modelUrl\": \"pt_classifier.mar\",\n",
      "    \"runtime\": \"python\",\n",
      "    \"minWorkers\": 8,\n",
      "    \"maxWorkers\": 8,\n",
      "    \"batchSize\": 1,\n",
      "    \"maxBatchDelay\": 100,\n",
      "    \"loadedAtStartup\": true,\n",
      "    \"workers\": [\n",
      "      {\n",
      "        \"id\": \"9000\",\n",
      "        \"startTime\": \"2024-03-10T10:56:02.022Z\",\n",
      "        \"status\": \"UNLOADING\",\n",
      "        \"memoryUsage\": 0,\n",
      "        \"pid\": 78925,\n",
      "        \"gpu\": false,\n",
      "        \"gpuUsage\": \"N/A\"\n",
      "      },\n",
      "      {\n",
      "        \"id\": \"9001\",\n",
      "        \"startTime\": \"2024-03-10T10:56:02.025Z\",\n",
      "        \"status\": \"UNLOADING\",\n",
      "        \"memoryUsage\": 0,\n",
      "        \"pid\": 78928,\n",
      "        \"gpu\": false,\n",
      "        \"gpuUsage\": \"N/A\"\n",
      "      },\n",
      "      {\n",
      "        \"id\": \"9002\",\n",
      "        \"startTime\": \"2024-03-10T10:56:02.025Z\",\n",
      "        \"status\": \"UNLOADING\",\n",
      "        \"memoryUsage\": 0,\n",
      "        \"pid\": 78929,\n",
      "        \"gpu\": false,\n",
      "        \"gpuUsage\": \"N/A\"\n",
      "      },\n",
      "      {\n",
      "        \"id\": \"9003\",\n",
      "        \"startTime\": \"2024-03-10T10:56:02.025Z\",\n",
      "        \"status\": \"UNLOADING\",\n",
      "        \"memoryUsage\": 0,\n",
      "        \"pid\": 78927,\n",
      "        \"gpu\": false,\n",
      "        \"gpuUsage\": \"N/A\"\n",
      "      },\n",
      "      {\n",
      "        \"id\": \"9004\",\n",
      "        \"startTime\": \"2024-03-10T10:56:02.025Z\",\n",
      "        \"status\": \"UNLOADING\",\n",
      "        \"memoryUsage\": 0,\n",
      "        \"pid\": 78922,\n",
      "        \"gpu\": false,\n",
      "        \"gpuUsage\": \"N/A\"\n",
      "      },\n",
      "      {\n",
      "        \"id\": \"9005\",\n",
      "        \"startTime\": \"2024-03-10T10:56:02.026Z\",\n",
      "        \"status\": \"UNLOADING\",\n",
      "        \"memoryUsage\": 0,\n",
      "        \"pid\": 78923,\n",
      "        \"gpu\": false,\n",
      "        \"gpuUsage\": \"N/A\"\n",
      "      },\n",
      "      {\n",
      "        \"id\": \"9006\",\n",
      "        \"startTime\": \"2024-03-10T10:56:02.026Z\",\n",
      "        \"status\": \"UNLOADING\",\n",
      "        \"memoryUsage\": 0,\n",
      "        \"pid\": 78926,\n",
      "        \"gpu\": false,\n",
      "        \"gpuUsage\": \"N/A\"\n",
      "      },\n",
      "      {\n",
      "        \"id\": \"9007\",\n",
      "        \"startTime\": \"2024-03-10T10:56:02.026Z\",\n",
      "        \"status\": \"UNLOADING\",\n",
      "        \"memoryUsage\": 0,\n",
      "        \"pid\": 78924,\n",
      "        \"gpu\": false,\n",
      "        \"gpuUsage\": \"N/A\"\n",
      "      }\n",
      "    ],\n",
      "    \"jobQueueStatus\": {\n",
      "      \"remainingCapacity\": 100,\n",
      "      \"pendingRequests\": 0\n",
      "    }\n",
      "  }\n",
      "]\n"
     ]
    }
   ],
   "source": [
    "!curl \"http://localhost:9081/models/pt_classifier\""
   ]
  },
  {
   "cell_type": "code",
   "execution_count": 32,
   "id": "48121e4a",
   "metadata": {},
   "outputs": [
    {
     "name": "stdout",
     "output_type": "stream",
     "text": [
      "^C\n"
     ]
    }
   ],
   "source": [
    "! curl -X POST http://localhost:9080/predictions/pt_classifier \\\n",
    "        -H 'Content-Type: application/json' \\\n",
    "        -d '{\"text\":\"herbal tea\",\"request_id\":\"test_id\"}' \\"
   ]
  },
  {
   "cell_type": "code",
   "execution_count": 35,
   "id": "9e4100e6",
   "metadata": {},
   "outputs": [
    {
     "name": "stdout",
     "output_type": "stream",
     "text": [
      "curl: (7) Failed to connect to localhost port 9080 after 0 ms: Couldn't connect to server\n"
     ]
    }
   ],
   "source": [
    "!curl http://localhost:9080/ping"
   ]
  },
  {
   "cell_type": "code",
   "execution_count": 67,
   "id": "16278b53",
   "metadata": {},
   "outputs": [
    {
     "data": {
      "text/plain": [
       "{'code': 500, 'type': 'InternalServerException', 'message': 'Worker died.'}"
      ]
     },
     "execution_count": 67,
     "metadata": {},
     "output_type": "execute_result"
    }
   ],
   "source": [
    "import requests\n",
    "\n",
    "payload = {'text':\"herbal tea\", \"request_ID\": \"test_id\"}\n",
    "\n",
    "endpoint = \"http://localhost:9080/predictions/pt_classifier\"\n",
    "\n",
    "res = requests.post(endpoint, json = payload)\n",
    "\n",
    "res.json()"
   ]
  },
  {
   "cell_type": "code",
   "execution_count": null,
   "id": "55d5c302",
   "metadata": {},
   "outputs": [],
   "source": []
  }
 ],
 "metadata": {
  "kernelspec": {
   "display_name": "Python 3 (ipykernel)",
   "language": "python",
   "name": "python3"
  },
  "language_info": {
   "codemirror_mode": {
    "name": "ipython",
    "version": 3
   },
   "file_extension": ".py",
   "mimetype": "text/x-python",
   "name": "python",
   "nbconvert_exporter": "python",
   "pygments_lexer": "ipython3",
   "version": "3.9.13"
  }
 },
 "nbformat": 4,
 "nbformat_minor": 5
}
