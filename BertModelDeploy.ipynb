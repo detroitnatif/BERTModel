{
 "cells": [
  {
   "cell_type": "code",
   "execution_count": 22,
   "id": "e13b284e",
   "metadata": {},
   "outputs": [],
   "source": [
    "import torch\n",
    "from transformers import AutoModel\n",
    "from torch.utils.data import DataLoader\n",
    "from torchvision import transforms\n",
    "from transformers import AutoModelForSequenceClassification, AutoTokenizer\n",
    "import transformers\n",
    "from datasets import load_dataset\n",
    "import handler\n",
    "\n",
    "import pathlib\n",
    "import sklearn\n",
    "import datasets\n",
    "import pandas as pd\n",
    "import glob\n",
    "import functools\n",
    "import os\n",
    "import sys\n",
    "\n",
    "TOKENIZERS_PARALLELISM=False"
   ]
  },
  {
   "cell_type": "code",
   "execution_count": 23,
   "id": "ccad7720",
   "metadata": {},
   "outputs": [
    {
     "name": "stdout",
     "output_type": "stream",
     "text": [
      "config.json             model_weights.pt        tokenizer.json\r\n",
      "model.safetensors       setup_config.json       tokenizer_config.json\r\n",
      "\u001b[1m\u001b[36mmodel_store\u001b[m\u001b[m             special_tokens_map.json vocab.txt\r\n"
     ]
    }
   ],
   "source": [
    "!ls ./trainedmodels/\n"
   ]
  },
  {
   "cell_type": "code",
   "execution_count": 24,
   "id": "a671309e",
   "metadata": {},
   "outputs": [],
   "source": [
    "BASE_DIR = '/Users/tylerklimas/Desktop/BERTModel/TrainedModels'\n",
    "\n",
    "MODEL_NAME = 'pt_classifier'\n",
    "MODEL_VERSION = '1.0'\n",
    "MODEL_STORE='${BASE_DIR}/model_store'\n",
    "MODEL_SERIALIZED_FILE=\"${BASE_DIR}/model_weights.pt\"\n",
    "\n",
    "TOKENIZER_FILES= \"${BASE_DIR}/tokenizer_config.json, ${BASE_DIR}/special_tokens_map.json, ${BASE_DIR}/vocab.txt,  ${BASE_DIR}/tokenizer.json\"\n",
    "MODEL_EXTRA_FILES=\"${BASE_DIR}/setup_config.json, ${TOKENIZER_FILES}\"\n"
   ]
  },
  {
   "cell_type": "code",
   "execution_count": 26,
   "id": "794f9d38",
   "metadata": {},
   "outputs": [],
   "source": [
    "%%bash\n",
    "\n",
    "BASE_DIR='/Users/tylerklimas/Desktop/BERTModel/TrainedModels'\n",
    "\n",
    "MODEL_NAME='pt_classifier'\n",
    "MODEL_VERSION='1.0'\n",
    "MODEL_STORE=\"${BASE_DIR}/model_store\"\n",
    "MODEL_SERIALIZED_FILE=\"${BASE_DIR}/model_weights.pt\"\n",
    "\n",
    "# Ensure no spaces after commas\n",
    "TOKENIZER_FILES=\"${BASE_DIR}/tokenizer_config.json,${BASE_DIR}/special_tokens_map.json,${BASE_DIR}/vocab.txt,${BASE_DIR}/tokenizer.json\"\n",
    "MODEL_EXTRA_FILES=\"${BASE_DIR}/setup_config.json,${TOKENIZER_FILES}\"\n",
    "\n",
    "mkdir -p $MODEL_STORE\n",
    "\n",
    "torch-model-archiver --model-name ${MODEL_NAME} \\\n",
    "--version ${MODEL_VERSION} \\\n",
    "--serialized-file ${MODEL_SERIALIZED_FILE} \\\n",
    "--export-path ${MODEL_STORE} \\\n",
    "--extra-files \"${MODEL_EXTRA_FILES}\" \\\n",
    "--handler ./handler.py\n"
   ]
  },
  {
   "cell_type": "code",
   "execution_count": 31,
   "id": "11ce4d5f",
   "metadata": {},
   "outputs": [
    {
     "name": "stdout",
     "output_type": "stream",
     "text": [
      "/Users/tylerklimas/Desktop/BERTModel\r\n"
     ]
    }
   ],
   "source": [
    "!pwd"
   ]
  },
  {
   "cell_type": "code",
   "execution_count": 37,
   "id": "d08d1387",
   "metadata": {},
   "outputs": [],
   "source": [
    "%%bash \n",
    "torchserve --ts-config /Users/tylerklimas/Desktop/BERTModel/TrainedModels/config.properties \\\n",
    "--start --model-store /Users/tylerklimas/Desktop/BERTModel/TrainedModels/model_store --ncs"
   ]
  },
  {
   "cell_type": "code",
   "execution_count": 34,
   "id": "d65b6423",
   "metadata": {},
   "outputs": [
    {
     "name": "stdout",
     "output_type": "stream",
     "text": [
      "TorchServe has stopped.\n"
     ]
    }
   ],
   "source": [
    "# %%bash \n",
    "# torchserve --stop"
   ]
  },
  {
   "cell_type": "code",
   "execution_count": 39,
   "id": "aced8478",
   "metadata": {},
   "outputs": [
    {
     "name": "stdout",
     "output_type": "stream",
     "text": [
      "load_models=all\r\n",
      "inference_address=http://0.0.0.0:9080\r\n",
      "management_address=http://0.0.0.0:9081\r\n",
      "metrics_address=http://0.0.0.0:9082\r\n",
      "model_store=model_store\r\n",
      "async_logging=true"
     ]
    }
   ],
   "source": [
    "!cat /Users/tylerklimas/Desktop/BERTModel/TrainedModels/config.properties"
   ]
  },
  {
   "cell_type": "code",
   "execution_count": 42,
   "id": "12cd7d53",
   "metadata": {},
   "outputs": [],
   "source": [
    "# !curl \"http://localhost:9081/models/pt_classifier\""
   ]
  },
  {
   "cell_type": "code",
   "execution_count": null,
   "id": "c5721b35",
   "metadata": {},
   "outputs": [],
   "source": [
    "! curl -X POST http://localhost:9081/predictions/pt_classifier \\\n",
    "        -H 'Content-Type: application/json' \\\n",
    "        -d '{\"text\": \"herbal tea\", \"request_id\":\"test_id\"}' \\\n",
    "        -w \"\\nelasped time (sec): %{time_total}\""
   ]
  }
 ],
 "metadata": {
  "kernelspec": {
   "display_name": "Python 3 (ipykernel)",
   "language": "python",
   "name": "python3"
  },
  "language_info": {
   "codemirror_mode": {
    "name": "ipython",
    "version": 3
   },
   "file_extension": ".py",
   "mimetype": "text/x-python",
   "name": "python",
   "nbconvert_exporter": "python",
   "pygments_lexer": "ipython3",
   "version": "3.9.13"
  }
 },
 "nbformat": 4,
 "nbformat_minor": 5
}
