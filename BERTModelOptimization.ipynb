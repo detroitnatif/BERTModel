{
 "cells": [
  {
   "cell_type": "code",
   "execution_count": 2,
   "id": "cd848ea6",
   "metadata": {},
   "outputs": [],
   "source": [
    "import torch\n",
    "from transformers import AutoModel\n",
    "from torch.utils.data import DataLoader\n",
    "from torchvision import transforms\n",
    "from transformers import AutoModelForSequenceClassification, AutoTokenizer\n",
    "import transformers\n",
    "from datasets import load_dataset\n",
    "\n",
    "import random\n",
    "import random\n",
    "from PIL import ImageDraw, ImageFont, Image\n",
    "import pathlib\n",
    "import sklearn\n",
    "import datasets\n",
    "import pandas as pd\n",
    "import sklearn.preprocessing\n",
    "import sklearn.model_selection\n",
    "import glob\n",
    "import functools\n",
    "\n",
    "TOKENIZERS_PARALLELISM=False"
   ]
  },
  {
   "cell_type": "code",
   "execution_count": 5,
   "id": "6b0129fb",
   "metadata": {},
   "outputs": [],
   "source": [
    "dataset_path = '/Users/tylerklimas/Desktop/BERTModel/dataset_processed'\n",
    "dataset_raw = datasets.load_from_disk(dataset_path)\n",
    "\n",
    "labels = dataset_raw['train'].features['label'].names\n",
    "labels\n",
    "\n",
    "id2label = {}\n",
    "label2id = {}\n",
    "for idx, ele in enumerate(labels):\n",
    "    label2id[ele] = idx\n",
    "    id2label[idx] = ele\n",
    "\n",
    "    "
   ]
  },
  {
   "cell_type": "code",
   "execution_count": 7,
   "id": "a909c886",
   "metadata": {},
   "outputs": [
    {
     "name": "stderr",
     "output_type": "stream",
     "text": [
      "Some weights of DistilBertForSequenceClassification were not initialized from the model checkpoint at distilbert-base-uncased and are newly initialized: ['classifier.bias', 'classifier.weight', 'pre_classifier.bias', 'pre_classifier.weight']\n",
      "You should probably TRAIN this model on a down-stream task to be able to use it for predictions and inference.\n"
     ]
    }
   ],
   "source": [
    "base_model = \"distilbert-base-uncased\"\n",
    "tokenizer = transformers.AutoTokenizer.from_pretrained(base_model)\n",
    "model = transformers.AutoModelForSequenceClassification.from_pretrained(base_model,\n",
    "                                                                        num_labels = len(labels),\n",
    "                                                                        label2id=label2id,\n",
    "                                                                        id2label=id2label)"
   ]
  },
  {
   "cell_type": "code",
   "execution_count": 11,
   "id": "71b81e67",
   "metadata": {},
   "outputs": [
    {
     "data": {
      "text/plain": [
       "{'brand', 'item_id', 'item_name', 'main_image_id', 'node'}"
      ]
     },
     "execution_count": 11,
     "metadata": {},
     "output_type": "execute_result"
    }
   ],
   "source": [
    "columns = set(dataset_raw['train'].column_names) - set(['text', 'label'])\n",
    "columns"
   ]
  },
  {
   "cell_type": "code",
   "execution_count": 12,
   "id": "5b388d71",
   "metadata": {},
   "outputs": [
    {
     "name": "stderr",
     "output_type": "stream",
     "text": [
      "Map: 100%|███████████████████████| 72743/72743 [00:09<00:00, 7649.26 examples/s]\n",
      "Map: 100%|███████████████████████| 24248/24248 [00:03<00:00, 7744.98 examples/s]\n",
      "Map: 100%|███████████████████████| 24248/24248 [00:03<00:00, 7709.21 examples/s]\n"
     ]
    }
   ],
   "source": [
    "def tokenize_function(examples):\n",
    "    return tokenizer(examples[\"text\"], padding=\"max_length\", truncation=True)\n",
    "\n",
    "tokenized_datasets = dataset_raw.map(tokenize_function, batched=True, remove_columns=columns)"
   ]
  },
  {
   "cell_type": "code",
   "execution_count": 16,
   "id": "e4b58934",
   "metadata": {},
   "outputs": [
    {
     "data": {
      "text/plain": [
       "72743"
      ]
     },
     "execution_count": 16,
     "metadata": {},
     "output_type": "execute_result"
    }
   ],
   "source": [
    "subset = tokenized_datasets['train'].num_rows\n",
    "subset = 2-"
   ]
  },
  {
   "cell_type": "code",
   "execution_count": null,
   "id": "4a2300fe",
   "metadata": {},
   "outputs": [],
   "source": []
  }
 ],
 "metadata": {
  "kernelspec": {
   "display_name": "Python 3 (ipykernel)",
   "language": "python",
   "name": "python3"
  },
  "language_info": {
   "codemirror_mode": {
    "name": "ipython",
    "version": 3
   },
   "file_extension": ".py",
   "mimetype": "text/x-python",
   "name": "python",
   "nbconvert_exporter": "python",
   "pygments_lexer": "ipython3",
   "version": "3.9.13"
  }
 },
 "nbformat": 4,
 "nbformat_minor": 5
}
